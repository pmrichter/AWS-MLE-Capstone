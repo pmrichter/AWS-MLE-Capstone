{
 "cells": [
  {
   "cell_type": "code",
   "execution_count": 1,
   "id": "529d7115",
   "metadata": {},
   "outputs": [],
   "source": [
    "import pandas as pd"
   ]
  },
  {
   "cell_type": "code",
   "execution_count": 2,
   "id": "97e121c0",
   "metadata": {},
   "outputs": [],
   "source": [
    "#manually picked a random ticker to validate the data quality\n",
    "ticker='AEP'\n",
    "df1=pd.read_csv(f\"./returns/{ticker}-1d-returns.csv\")\n",
    "df5=pd.read_csv(f\"./returns/{ticker}-5d-returns.csv\")\n",
    "df20=pd.read_csv(f\"./returns/{ticker}-20d-returns.csv\")"
   ]
  },
  {
   "cell_type": "code",
   "execution_count": 3,
   "id": "6124f9c9",
   "metadata": {},
   "outputs": [
    {
     "name": "stdout",
     "output_type": "stream",
     "text": [
      "data points for 1d returns of ticker AEP: 5001\n",
      "data points for 5d returns of ticker AEP: 5001\n",
      "data points for 20d returns of ticker AEP: 5001\n"
     ]
    }
   ],
   "source": [
    "#check the number of data points (should all be 5001)\n",
    "print(f\"data points for 1d returns of ticker {ticker}: {len(df1)}\")\n",
    "print(f\"data points for 5d returns of ticker {ticker}: {len(df5)}\")\n",
    "print(f\"data points for 20d returns of ticker {ticker}: {len(df20)}\")"
   ]
  },
  {
   "cell_type": "code",
   "execution_count": 4,
   "id": "c25e2265",
   "metadata": {},
   "outputs": [
    {
     "data": {
      "text/html": [
       "<div>\n",
       "<style scoped>\n",
       "    .dataframe tbody tr th:only-of-type {\n",
       "        vertical-align: middle;\n",
       "    }\n",
       "\n",
       "    .dataframe tbody tr th {\n",
       "        vertical-align: top;\n",
       "    }\n",
       "\n",
       "    .dataframe thead th {\n",
       "        text-align: right;\n",
       "    }\n",
       "</style>\n",
       "<table border=\"1\" class=\"dataframe\">\n",
       "  <thead>\n",
       "    <tr style=\"text-align: right;\">\n",
       "      <th></th>\n",
       "      <th>datetime</th>\n",
       "      <th>return</th>\n",
       "    </tr>\n",
       "  </thead>\n",
       "  <tbody>\n",
       "    <tr>\n",
       "      <th>0</th>\n",
       "      <td>2002-07-31</td>\n",
       "      <td>-0.013489</td>\n",
       "    </tr>\n",
       "    <tr>\n",
       "      <th>1</th>\n",
       "      <td>2002-08-01</td>\n",
       "      <td>-0.015193</td>\n",
       "    </tr>\n",
       "    <tr>\n",
       "      <th>2</th>\n",
       "      <td>2002-08-02</td>\n",
       "      <td>-0.041654</td>\n",
       "    </tr>\n",
       "    <tr>\n",
       "      <th>3</th>\n",
       "      <td>2002-08-05</td>\n",
       "      <td>0.004508</td>\n",
       "    </tr>\n",
       "    <tr>\n",
       "      <th>4</th>\n",
       "      <td>2002-08-06</td>\n",
       "      <td>0.032051</td>\n",
       "    </tr>\n",
       "  </tbody>\n",
       "</table>\n",
       "</div>"
      ],
      "text/plain": [
       "     datetime    return\n",
       "0  2002-07-31 -0.013489\n",
       "1  2002-08-01 -0.015193\n",
       "2  2002-08-02 -0.041654\n",
       "3  2002-08-05  0.004508\n",
       "4  2002-08-06  0.032051"
      ]
     },
     "execution_count": 4,
     "metadata": {},
     "output_type": "execute_result"
    }
   ],
   "source": [
    "#have a look at the first 5 data points to check, how the 1d returns data looks like\n",
    "df1.head()"
   ]
  },
  {
   "cell_type": "code",
   "execution_count": 5,
   "id": "3990422c",
   "metadata": {},
   "outputs": [
    {
     "data": {
      "text/html": [
       "<div>\n",
       "<style scoped>\n",
       "    .dataframe tbody tr th:only-of-type {\n",
       "        vertical-align: middle;\n",
       "    }\n",
       "\n",
       "    .dataframe tbody tr th {\n",
       "        vertical-align: top;\n",
       "    }\n",
       "\n",
       "    .dataframe thead th {\n",
       "        text-align: right;\n",
       "    }\n",
       "</style>\n",
       "<table border=\"1\" class=\"dataframe\">\n",
       "  <thead>\n",
       "    <tr style=\"text-align: right;\">\n",
       "      <th></th>\n",
       "      <th>datetime</th>\n",
       "      <th>return</th>\n",
       "    </tr>\n",
       "  </thead>\n",
       "  <tbody>\n",
       "    <tr>\n",
       "      <th>0</th>\n",
       "      <td>2002-07-31</td>\n",
       "      <td>0.250856</td>\n",
       "    </tr>\n",
       "    <tr>\n",
       "      <th>1</th>\n",
       "      <td>2002-08-01</td>\n",
       "      <td>0.098644</td>\n",
       "    </tr>\n",
       "    <tr>\n",
       "      <th>2</th>\n",
       "      <td>2002-08-02</td>\n",
       "      <td>0.060069</td>\n",
       "    </tr>\n",
       "    <tr>\n",
       "      <th>3</th>\n",
       "      <td>2002-08-05</td>\n",
       "      <td>0.017281</td>\n",
       "    </tr>\n",
       "    <tr>\n",
       "      <th>4</th>\n",
       "      <td>2002-08-06</td>\n",
       "      <td>-0.034772</td>\n",
       "    </tr>\n",
       "  </tbody>\n",
       "</table>\n",
       "</div>"
      ],
      "text/plain": [
       "     datetime    return\n",
       "0  2002-07-31  0.250856\n",
       "1  2002-08-01  0.098644\n",
       "2  2002-08-02  0.060069\n",
       "3  2002-08-05  0.017281\n",
       "4  2002-08-06 -0.034772"
      ]
     },
     "execution_count": 5,
     "metadata": {},
     "output_type": "execute_result"
    }
   ],
   "source": [
    "#have a look at the first 5 data points to check, how the 5d returns data looks like\n",
    "df5.head()"
   ]
  },
  {
   "cell_type": "code",
   "execution_count": 6,
   "id": "d1f2498c",
   "metadata": {},
   "outputs": [
    {
     "data": {
      "text/html": [
       "<div>\n",
       "<style scoped>\n",
       "    .dataframe tbody tr th:only-of-type {\n",
       "        vertical-align: middle;\n",
       "    }\n",
       "\n",
       "    .dataframe tbody tr th {\n",
       "        vertical-align: top;\n",
       "    }\n",
       "\n",
       "    .dataframe thead th {\n",
       "        text-align: right;\n",
       "    }\n",
       "</style>\n",
       "<table border=\"1\" class=\"dataframe\">\n",
       "  <thead>\n",
       "    <tr style=\"text-align: right;\">\n",
       "      <th></th>\n",
       "      <th>datetime</th>\n",
       "      <th>return</th>\n",
       "    </tr>\n",
       "  </thead>\n",
       "  <tbody>\n",
       "    <tr>\n",
       "      <th>0</th>\n",
       "      <td>2002-07-31</td>\n",
       "      <td>-0.144751</td>\n",
       "    </tr>\n",
       "    <tr>\n",
       "      <th>1</th>\n",
       "      <td>2002-08-01</td>\n",
       "      <td>-0.152237</td>\n",
       "    </tr>\n",
       "    <tr>\n",
       "      <th>2</th>\n",
       "      <td>2002-08-02</td>\n",
       "      <td>-0.201132</td>\n",
       "    </tr>\n",
       "    <tr>\n",
       "      <th>3</th>\n",
       "      <td>2002-08-05</td>\n",
       "      <td>-0.194423</td>\n",
       "    </tr>\n",
       "    <tr>\n",
       "      <th>4</th>\n",
       "      <td>2002-08-06</td>\n",
       "      <td>-0.128553</td>\n",
       "    </tr>\n",
       "  </tbody>\n",
       "</table>\n",
       "</div>"
      ],
      "text/plain": [
       "     datetime    return\n",
       "0  2002-07-31 -0.144751\n",
       "1  2002-08-01 -0.152237\n",
       "2  2002-08-02 -0.201132\n",
       "3  2002-08-05 -0.194423\n",
       "4  2002-08-06 -0.128553"
      ]
     },
     "execution_count": 6,
     "metadata": {},
     "output_type": "execute_result"
    }
   ],
   "source": [
    "#have a look at the first 5 data points to check, how the 20d returns data looks like\n",
    "df20.head()"
   ]
  },
  {
   "cell_type": "code",
   "execution_count": 7,
   "id": "ff244808",
   "metadata": {},
   "outputs": [
    {
     "name": "stdout",
     "output_type": "stream",
     "text": [
      "<class 'pandas.core.frame.DataFrame'>\n",
      "RangeIndex: 5001 entries, 0 to 5000\n",
      "Data columns (total 2 columns):\n",
      " #   Column    Non-Null Count  Dtype  \n",
      "---  ------    --------------  -----  \n",
      " 0   datetime  5001 non-null   object \n",
      " 1   return    5001 non-null   float64\n",
      "dtypes: float64(1), object(1)\n",
      "memory usage: 78.3+ KB\n",
      "<class 'pandas.core.frame.DataFrame'>\n",
      "RangeIndex: 5001 entries, 0 to 5000\n",
      "Data columns (total 2 columns):\n",
      " #   Column    Non-Null Count  Dtype  \n",
      "---  ------    --------------  -----  \n",
      " 0   datetime  5001 non-null   object \n",
      " 1   return    5001 non-null   float64\n",
      "dtypes: float64(1), object(1)\n",
      "memory usage: 78.3+ KB\n",
      "<class 'pandas.core.frame.DataFrame'>\n",
      "RangeIndex: 5001 entries, 0 to 5000\n",
      "Data columns (total 2 columns):\n",
      " #   Column    Non-Null Count  Dtype  \n",
      "---  ------    --------------  -----  \n",
      " 0   datetime  5001 non-null   object \n",
      " 1   return    5001 non-null   float64\n",
      "dtypes: float64(1), object(1)\n",
      "memory usage: 78.3+ KB\n"
     ]
    }
   ],
   "source": [
    "#check the data types\n",
    "df1.info()\n",
    "df5.info()\n",
    "df20.info()"
   ]
  },
  {
   "cell_type": "code",
   "execution_count": 8,
   "id": "0ffb5201",
   "metadata": {},
   "outputs": [],
   "source": [
    "#the data type of the \"datetime\" column is just \"object\", so we have to convert this column\n",
    "df1['datetime']=pd.to_datetime(df1['datetime'])\n",
    "df5['datetime']=pd.to_datetime(df5['datetime'])\n",
    "df20['datetime']=pd.to_datetime(df20['datetime'])"
   ]
  },
  {
   "cell_type": "code",
   "execution_count": 9,
   "id": "9155f57f",
   "metadata": {},
   "outputs": [
    {
     "name": "stdout",
     "output_type": "stream",
     "text": [
      "<class 'pandas.core.frame.DataFrame'>\n",
      "RangeIndex: 5001 entries, 0 to 5000\n",
      "Data columns (total 2 columns):\n",
      " #   Column    Non-Null Count  Dtype         \n",
      "---  ------    --------------  -----         \n",
      " 0   datetime  5001 non-null   datetime64[ns]\n",
      " 1   return    5001 non-null   float64       \n",
      "dtypes: datetime64[ns](1), float64(1)\n",
      "memory usage: 78.3 KB\n",
      "<class 'pandas.core.frame.DataFrame'>\n",
      "RangeIndex: 5001 entries, 0 to 5000\n",
      "Data columns (total 2 columns):\n",
      " #   Column    Non-Null Count  Dtype         \n",
      "---  ------    --------------  -----         \n",
      " 0   datetime  5001 non-null   datetime64[ns]\n",
      " 1   return    5001 non-null   float64       \n",
      "dtypes: datetime64[ns](1), float64(1)\n",
      "memory usage: 78.3 KB\n",
      "<class 'pandas.core.frame.DataFrame'>\n",
      "RangeIndex: 5001 entries, 0 to 5000\n",
      "Data columns (total 2 columns):\n",
      " #   Column    Non-Null Count  Dtype         \n",
      "---  ------    --------------  -----         \n",
      " 0   datetime  5001 non-null   datetime64[ns]\n",
      " 1   return    5001 non-null   float64       \n",
      "dtypes: datetime64[ns](1), float64(1)\n",
      "memory usage: 78.3 KB\n"
     ]
    }
   ],
   "source": [
    "#check again\n",
    "df1.info()\n",
    "df5.info()\n",
    "df20.info()"
   ]
  },
  {
   "cell_type": "code",
   "execution_count": 10,
   "id": "4ac56f8d",
   "metadata": {},
   "outputs": [
    {
     "data": {
      "text/plain": [
       "<AxesSubplot:xlabel='datetime'>"
      ]
     },
     "execution_count": 10,
     "metadata": {},
     "output_type": "execute_result"
    },
    {
     "data": {
      "image/png": "[encoded data removed]",
      "text/plain": [
       "<Figure size 432x288 with 1 Axes>"
      ]
     },
     "metadata": {
      "needs_background": "light"
     },
     "output_type": "display_data"
    }
   ],
   "source": [
    "#in order to plot the chart, we construct a new time series with the returns and set the dataframe index to be the datetime column\n",
    "prices1=df1['return']\n",
    "prices5=df5['return']\n",
    "prices20=df20['return']\n",
    "\n",
    "prices1.index=df1['datetime']\n",
    "prices5.index=df5['datetime']\n",
    "prices20.index=df20['datetime']\n",
    "\n",
    "prices1.plot()"
   ]
  },
  {
   "cell_type": "code",
   "execution_count": 11,
   "id": "2df5301c",
   "metadata": {},
   "outputs": [
    {
     "data": {
      "text/plain": [
       "<AxesSubplot:xlabel='datetime'>"
      ]
     },
     "execution_count": 11,
     "metadata": {},
     "output_type": "execute_result"
    },
    {
     "data": {
      "image/png": "[encoded data removed]",
      "text/plain": [
       "<Figure size 432x288 with 1 Axes>"
      ]
     },
     "metadata": {
      "needs_background": "light"
     },
     "output_type": "display_data"
    }
   ],
   "source": [
    "prices5.plot()"
   ]
  },
  {
   "cell_type": "code",
   "execution_count": 12,
   "id": "85a28e3c",
   "metadata": {},
   "outputs": [
    {
     "data": {
      "text/plain": [
       "<AxesSubplot:xlabel='datetime'>"
      ]
     },
     "execution_count": 12,
     "metadata": {},
     "output_type": "execute_result"
    },
    {
     "data": {
      "image/png": "[encoded data removed]",
      "text/plain": [
       "<Figure size 432x288 with 1 Axes>"
      ]
     },
     "metadata": {
      "needs_background": "light"
     },
     "output_type": "display_data"
    }
   ],
   "source": [
    "prices20.plot()"
   ]
  },
  {
   "cell_type": "code",
   "execution_count": 13,
   "id": "6c472f76",
   "metadata": {},
   "outputs": [],
   "source": [
    "#Looks fine. The major down-turns can be visually identified quite easily."
   ]
  }
 ],
 "metadata": {
  "kernelspec": {
   "display_name": "Python 3 (ipykernel)",
   "language": "python",
   "name": "python3"
  },
  "language_info": {
   "codemirror_mode": {
    "name": "ipython",
    "version": 3
   },
   "file_extension": ".py",
   "mimetype": "text/x-python",
   "name": "python",
   "nbconvert_exporter": "python",
   "pygments_lexer": "ipython3",
   "version": "3.9.7"
  }
 },
 "nbformat": 4,
 "nbformat_minor": 5
}
