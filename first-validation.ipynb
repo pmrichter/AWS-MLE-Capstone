{
 "cells": [
  {
   "cell_type": "code",
   "execution_count": 39,
   "id": "91a61935",
   "metadata": {},
   "outputs": [],
   "source": [
    "import pandas as pd"
   ]
  },
  {
   "cell_type": "code",
   "execution_count": 40,
   "id": "f10a2917",
   "metadata": {},
   "outputs": [],
   "source": [
    "#manually picked a random ticker to validate the data quality\n",
    "ticker='AEP'\n",
    "df=pd.read_csv(f\"./prices/{ticker}.csv\")"
   ]
  },
  {
   "cell_type": "code",
   "execution_count": 41,
   "id": "30ecdbd5",
   "metadata": {},
   "outputs": [
    {
     "name": "stdout",
     "output_type": "stream",
     "text": [
      "data points in ticker AEP: 5035\n"
     ]
    }
   ],
   "source": [
    "#check the number of data points. Should be 5035 for the used time period.\n",
    "print(f\"data points in ticker {ticker}: {len(df)}\")"
   ]
  },
  {
   "cell_type": "code",
   "execution_count": 42,
   "id": "782c6eac",
   "metadata": {},
   "outputs": [
    {
     "data": {
      "text/html": [
       "<div>\n",
       "<style scoped>\n",
       "    .dataframe tbody tr th:only-of-type {\n",
       "        vertical-align: middle;\n",
       "    }\n",
       "\n",
       "    .dataframe tbody tr th {\n",
       "        vertical-align: top;\n",
       "    }\n",
       "\n",
       "    .dataframe thead th {\n",
       "        text-align: right;\n",
       "    }\n",
       "</style>\n",
       "<table border=\"1\" class=\"dataframe\">\n",
       "  <thead>\n",
       "    <tr style=\"text-align: right;\">\n",
       "      <th></th>\n",
       "      <th>2002-06-11</th>\n",
       "      <th>17.586029052734375</th>\n",
       "    </tr>\n",
       "  </thead>\n",
       "  <tbody>\n",
       "    <tr>\n",
       "      <th>0</th>\n",
       "      <td>2002-06-12</td>\n",
       "      <td>17.650501</td>\n",
       "    </tr>\n",
       "    <tr>\n",
       "      <th>1</th>\n",
       "      <td>2002-06-13</td>\n",
       "      <td>17.641901</td>\n",
       "    </tr>\n",
       "    <tr>\n",
       "      <th>2</th>\n",
       "      <td>2002-06-14</td>\n",
       "      <td>17.693472</td>\n",
       "    </tr>\n",
       "    <tr>\n",
       "      <th>3</th>\n",
       "      <td>2002-06-17</td>\n",
       "      <td>17.886864</td>\n",
       "    </tr>\n",
       "    <tr>\n",
       "      <th>4</th>\n",
       "      <td>2002-06-18</td>\n",
       "      <td>18.127529</td>\n",
       "    </tr>\n",
       "  </tbody>\n",
       "</table>\n",
       "</div>"
      ],
      "text/plain": [
       "   2002-06-11  17.586029052734375\n",
       "0  2002-06-12           17.650501\n",
       "1  2002-06-13           17.641901\n",
       "2  2002-06-14           17.693472\n",
       "3  2002-06-17           17.886864\n",
       "4  2002-06-18           18.127529"
      ]
     },
     "execution_count": 42,
     "metadata": {},
     "output_type": "execute_result"
    }
   ],
   "source": [
    "#have a look at the first 5 data points to check, how the data looks like\n",
    "df.head()"
   ]
  },
  {
   "cell_type": "code",
   "execution_count": 43,
   "id": "c5fde725",
   "metadata": {},
   "outputs": [
    {
     "data": {
      "text/html": [
       "<div>\n",
       "<style scoped>\n",
       "    .dataframe tbody tr th:only-of-type {\n",
       "        vertical-align: middle;\n",
       "    }\n",
       "\n",
       "    .dataframe tbody tr th {\n",
       "        vertical-align: top;\n",
       "    }\n",
       "\n",
       "    .dataframe thead th {\n",
       "        text-align: right;\n",
       "    }\n",
       "</style>\n",
       "<table border=\"1\" class=\"dataframe\">\n",
       "  <thead>\n",
       "    <tr style=\"text-align: right;\">\n",
       "      <th></th>\n",
       "      <th>datetime</th>\n",
       "      <th>price</th>\n",
       "    </tr>\n",
       "  </thead>\n",
       "  <tbody>\n",
       "    <tr>\n",
       "      <th>0</th>\n",
       "      <td>2002-06-12</td>\n",
       "      <td>17.650501</td>\n",
       "    </tr>\n",
       "    <tr>\n",
       "      <th>1</th>\n",
       "      <td>2002-06-13</td>\n",
       "      <td>17.641901</td>\n",
       "    </tr>\n",
       "    <tr>\n",
       "      <th>2</th>\n",
       "      <td>2002-06-14</td>\n",
       "      <td>17.693472</td>\n",
       "    </tr>\n",
       "    <tr>\n",
       "      <th>3</th>\n",
       "      <td>2002-06-17</td>\n",
       "      <td>17.886864</td>\n",
       "    </tr>\n",
       "    <tr>\n",
       "      <th>4</th>\n",
       "      <td>2002-06-18</td>\n",
       "      <td>18.127529</td>\n",
       "    </tr>\n",
       "  </tbody>\n",
       "</table>\n",
       "</div>"
      ],
      "text/plain": [
       "     datetime      price\n",
       "0  2002-06-12  17.650501\n",
       "1  2002-06-13  17.641901\n",
       "2  2002-06-14  17.693472\n",
       "3  2002-06-17  17.886864\n",
       "4  2002-06-18  18.127529"
      ]
     },
     "execution_count": 43,
     "metadata": {},
     "output_type": "execute_result"
    }
   ],
   "source": [
    "#the column headers are missing, so we add them and check again\n",
    "df.columns=['datetime','price']\n",
    "df.head()"
   ]
  },
  {
   "cell_type": "code",
   "execution_count": 44,
   "id": "9063e1fd",
   "metadata": {},
   "outputs": [
    {
     "name": "stdout",
     "output_type": "stream",
     "text": [
      "<class 'pandas.core.frame.DataFrame'>\n",
      "RangeIndex: 5035 entries, 0 to 5034\n",
      "Data columns (total 2 columns):\n",
      " #   Column    Non-Null Count  Dtype  \n",
      "---  ------    --------------  -----  \n",
      " 0   datetime  5035 non-null   object \n",
      " 1   price     5035 non-null   float64\n",
      "dtypes: float64(1), object(1)\n",
      "memory usage: 78.8+ KB\n"
     ]
    }
   ],
   "source": [
    "#check the data types\n",
    "df.info()"
   ]
  },
  {
   "cell_type": "code",
   "execution_count": 45,
   "id": "4fc78681",
   "metadata": {},
   "outputs": [],
   "source": [
    "#the data type of the \"datetime\" column is just \"object\", so we have to convert this column\n",
    "df['datetime']=pd.to_datetime(df['datetime'])"
   ]
  },
  {
   "cell_type": "code",
   "execution_count": 46,
   "id": "e47eec05",
   "metadata": {},
   "outputs": [
    {
     "name": "stdout",
     "output_type": "stream",
     "text": [
      "<class 'pandas.core.frame.DataFrame'>\n",
      "RangeIndex: 5035 entries, 0 to 5034\n",
      "Data columns (total 2 columns):\n",
      " #   Column    Non-Null Count  Dtype         \n",
      "---  ------    --------------  -----         \n",
      " 0   datetime  5035 non-null   datetime64[ns]\n",
      " 1   price     5035 non-null   float64       \n",
      "dtypes: datetime64[ns](1), float64(1)\n",
      "memory usage: 78.8 KB\n"
     ]
    }
   ],
   "source": [
    "#check again\n",
    "df.info()"
   ]
  },
  {
   "cell_type": "code",
   "execution_count": 52,
   "id": "3c139411",
   "metadata": {},
   "outputs": [
    {
     "data": {
      "text/plain": [
       "<AxesSubplot:xlabel='datetime'>"
      ]
     },
     "execution_count": 52,
     "metadata": {},
     "output_type": "execute_result"
    },
    {
     "data": {
      "image/png": "[encoded data removed]",
      "text/plain": [
       "<Figure size 432x288 with 1 Axes>"
      ]
     },
     "metadata": {
      "needs_background": "light"
     },
     "output_type": "display_data"
    }
   ],
   "source": [
    "#in order to plot the chart, we construct a new time series with the prices and set the dataframe index to be the datetime column\n",
    "prices=df['price']\n",
    "prices.index=df['datetime']\n",
    "prices.plot()"
   ]
  },
  {
   "cell_type": "code",
   "execution_count": 53,
   "id": "1a1b016a",
   "metadata": {},
   "outputs": [
    {
     "data": {
      "text/plain": [
       "count    5035.000000\n",
       "mean       39.475036\n",
       "std        24.300020\n",
       "min         7.746920\n",
       "25%        19.381084\n",
       "50%        27.896730\n",
       "75%        57.120235\n",
       "max       103.672112\n",
       "Name: price, dtype: float64"
      ]
     },
     "execution_count": 53,
     "metadata": {},
     "output_type": "execute_result"
    }
   ],
   "source": [
    "#looks fine. Let's have a look at the statistics (not relevant, but still interesting)\n",
    "prices.describe()"
   ]
  }
 ],
 "metadata": {
  "kernelspec": {
   "display_name": "Python 3 (ipykernel)",
   "language": "python",
   "name": "python3"
  },
  "language_info": {
   "codemirror_mode": {
    "name": "ipython",
    "version": 3
   },
   "file_extension": ".py",
   "mimetype": "text/x-python",
   "name": "python",
   "nbconvert_exporter": "python",
   "pygments_lexer": "ipython3",
   "version": "3.9.7"
  }
 },
 "nbformat": 4,
 "nbformat_minor": 5
}
